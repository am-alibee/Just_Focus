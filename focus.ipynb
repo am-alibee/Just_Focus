{
 "cells": [
  {
   "cell_type": "markdown",
   "id": "b9e241cc-d16a-4d86-8fbf-e162afcf8f37",
   "metadata": {},
   "source": [
    "# Objective"
   ]
  },
  {
   "cell_type": "code",
   "execution_count": null,
   "id": "7390be1e-ce17-4bbb-92ff-adb80a0ecba3",
   "metadata": {},
   "outputs": [],
   "source": [
    "# the first objective is to use an OOP and TD development approach\n",
    "# to take in file path and the different categories\n",
    "# perform a zero shot classification of the first column\n",
    "# output a transformed file containing both the given and classified data"
   ]
  },
  {
   "cell_type": "code",
   "execution_count": 1,
   "id": "57160073-0fde-48c4-a00c-6a60b64bddd3",
   "metadata": {},
   "outputs": [],
   "source": [
    "import pandas as pd\n",
    "from transformers import pipeline\n",
    "import spacy"
   ]
  },
  {
   "cell_type": "code",
   "execution_count": 105,
   "id": "b59bd227-036b-4d10-879e-6361b59de953",
   "metadata": {},
   "outputs": [
    {
     "data": {
      "text/plain": [
       "1      \"the dict has handed over to another person, h...\n",
       "2      they have made payment on countless occasions ...\n",
       "3      \"he has created a class, added candidates and ...\n",
       "4      \"the \"\"no credit packs assigned' issue has bee...\n",
       "5      \"i have forwarded a detailed information of th...\n",
       "                             ...                        \n",
       "148                                   started training\\n\n",
       "149          they are in the process of making payment\\n\n",
       "150    they have internet poor network due to the are...\n",
       "151                    they have make payment to icdl'\\n\n",
       "152    our payment request file is presently in bursa...\n",
       "Name: unstructured, Length: 152, dtype: object"
      ]
     },
     "execution_count": 105,
     "metadata": {},
     "output_type": "execute_result"
    }
   ],
   "source": [
    "data = read_data(filepath=\"Data/report_text.txt\", format=\"txt\")\n",
    "data"
   ]
  },
  {
   "cell_type": "code",
   "execution_count": 114,
   "id": "bf390201-4a78-4486-ad5d-c60f24938f86",
   "metadata": {},
   "outputs": [],
   "source": [
    "class Focus:\n",
    "    def __init__(self, filepath, categories):\n",
    "        self.filepath = filepath\n",
    "        self.categories = categories\n",
    "        self.categories.append(\"Others\")\n",
    "        \n",
    "    # 1. Load Data\n",
    "    def read_data(self):\n",
    "        print(\"hulala\")\n",
    "        print(self.categories)\n",
    "    # 2. Transform data\n",
    "    def classified(self):\n",
    "        print(\" \".join(self.categories))\n",
    "    # 3. Return transformed data and transaction message."
   ]
  },
  {
   "cell_type": "code",
   "execution_count": 28,
   "id": "71971bb1-145c-4207-b7b1-ddbe951db412",
   "metadata": {},
   "outputs": [
    {
     "name": "stdout",
     "output_type": "stream",
     "text": [
      "hulala\n",
      "['ali', 'baba', 'Others']\n"
     ]
    }
   ],
   "source": [
    "trans = Focus(\"fiidlfdlsl\", [\"ali\", \"baba\"])\n",
    "trans.read_data()"
   ]
  },
  {
   "cell_type": "code",
   "execution_count": 29,
   "id": "02369d9b-f344-4f4a-8e7f-a7293eaeb639",
   "metadata": {},
   "outputs": [
    {
     "data": {
      "text/plain": [
       "'ali baba'"
      ]
     },
     "execution_count": 29,
     "metadata": {},
     "output_type": "execute_result"
    }
   ],
   "source": [
    "dd = [\"ali\", \"baba\"]\n",
    "\" \".join(dd)"
   ]
  },
  {
   "cell_type": "code",
   "execution_count": 30,
   "id": "ff8306b0-c38b-43b7-a001-66c95dafeefd",
   "metadata": {},
   "outputs": [
    {
     "name": "stdout",
     "output_type": "stream",
     "text": [
      "ali baba Others\n"
     ]
    }
   ],
   "source": [
    "trans.classified()"
   ]
  },
  {
   "cell_type": "code",
   "execution_count": 102,
   "id": "9ef7218a-40ab-4490-b67b-a697622b52ef",
   "metadata": {},
   "outputs": [],
   "source": [
    "def read_data(filepath):\n",
    "    extension = re.search(r\"\\.([^.]+)$\", filename)\n",
    "\n",
    "    if format == \"xlsx\":\n",
    "        df = pd.read_excel(filepath)\n",
    "\n",
    "    elif format == \"csv\":\n",
    "        df = pd.read_csv(filepath)\n",
    "\n",
    "    elif format == \"txt\":\n",
    "        with open (filepath, \"r\") as file:\n",
    "            df = pd.DataFrame(file.readlines())[1:]\n",
    "\n",
    "    # elif format == \"txt\":\n",
    "    data = df.iloc[:, 0]\n",
    "    data.name = \"unstructured\"\n",
    "    return data"
   ]
  },
  {
   "cell_type": "code",
   "execution_count": 107,
   "id": "23503b8f-ae42-4fd3-b10e-2fd1f851e513",
   "metadata": {},
   "outputs": [
    {
     "name": "stdout",
     "output_type": "stream",
     "text": [
      "csv\n"
     ]
    }
   ],
   "source": [
    "import re\n",
    "\n",
    "filename = \"report.final.version.csv\"\n",
    "\n",
    "match = re.search(r\"\\.([^.]+)$\", filename)\n",
    "if match:\n",
    "    extension = match.group(1)\n",
    "    print(extension)  # Output: xlsx\n"
   ]
  },
  {
   "cell_type": "code",
   "execution_count": 118,
   "id": "d1ee721d-9d88-431a-9b13-e5c8a1e4a23c",
   "metadata": {},
   "outputs": [
    {
     "name": "stdout",
     "output_type": "stream",
     "text": [
      "hulala\n",
      "['ali', 'baba', 'Others']\n"
     ]
    }
   ],
   "source": [
    "# Text statements\n",
    "\n",
    "focus = Focus(filepath=\"report.final.version.csv\", categories = [\"ali\", \"baba\"])\n",
    "focus.read_data()\n",
    "\n",
    "# Check that the read_data method returned a dataframe\n",
    "assert ininstance(focus.read_data(), pd.DataFrame)\n",
    "\n"
   ]
  },
  {
   "cell_type": "code",
   "execution_count": 122,
   "id": "7bac1168-ce44-49dc-b535-39fe7d60193a",
   "metadata": {},
   "outputs": [
    {
     "data": {
      "text/plain": [
       "pandas.core.frame.DataFrame"
      ]
     },
     "execution_count": 122,
     "metadata": {},
     "output_type": "execute_result"
    }
   ],
   "source": [
    "type(pd.DataFrame())"
   ]
  },
  {
   "cell_type": "code",
   "execution_count": 123,
   "id": "43d3dc10-0eff-43c6-b01d-cf844387fd4a",
   "metadata": {},
   "outputs": [],
   "source": [
    "dd = pd.DataFrame()"
   ]
  },
  {
   "cell_type": "code",
   "execution_count": 124,
   "id": "ff08668e-a0ef-44ec-b82d-ba0c41ff59a3",
   "metadata": {},
   "outputs": [],
   "source": [
    "assert isinstance(dd, pd.DataFrame)"
   ]
  },
  {
   "cell_type": "code",
   "execution_count": null,
   "id": "407849f8-97a4-4944-bb96-c784243670cd",
   "metadata": {},
   "outputs": [],
   "source": []
  },
  {
   "cell_type": "code",
   "execution_count": null,
   "id": "1ab807b5-ebf0-4985-b23d-f9e1e0a9447d",
   "metadata": {},
   "outputs": [],
   "source": []
  },
  {
   "cell_type": "code",
   "execution_count": null,
   "id": "b3df6c09-aa92-454d-ba58-3299c975090f",
   "metadata": {},
   "outputs": [],
   "source": []
  },
  {
   "cell_type": "code",
   "execution_count": null,
   "id": "cc9ec206-acac-48e5-a5dc-487b403ced45",
   "metadata": {},
   "outputs": [],
   "source": []
  },
  {
   "cell_type": "code",
   "execution_count": null,
   "id": "bf8fef26-6e3e-49ee-9d48-ff913299b08e",
   "metadata": {},
   "outputs": [],
   "source": []
  }
 ],
 "metadata": {
  "kernelspec": {
   "display_name": "Python 3 (ipykernel)",
   "language": "python",
   "name": "python3"
  },
  "language_info": {
   "codemirror_mode": {
    "name": "ipython",
    "version": 3
   },
   "file_extension": ".py",
   "mimetype": "text/x-python",
   "name": "python",
   "nbconvert_exporter": "python",
   "pygments_lexer": "ipython3",
   "version": "3.12.11"
  }
 },
 "nbformat": 4,
 "nbformat_minor": 5
}
