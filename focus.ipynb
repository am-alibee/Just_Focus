{
 "cells": [
  {
   "cell_type": "markdown",
   "id": "b9e241cc-d16a-4d86-8fbf-e162afcf8f37",
   "metadata": {},
   "source": [
    "# Objective"
   ]
  },
  {
   "cell_type": "code",
   "execution_count": null,
   "id": "7390be1e-ce17-4bbb-92ff-adb80a0ecba3",
   "metadata": {},
   "outputs": [],
   "source": [
    "# the first objective is to use an OOP and TD development approach\n",
    "# to take in file path and the different categories\n",
    "# perform a zero shot classification of the first column\n",
    "# output a transformed file containing both the given and classified data"
   ]
  },
  {
   "cell_type": "code",
   "execution_count": 1,
   "id": "57160073-0fde-48c4-a00c-6a60b64bddd3",
   "metadata": {},
   "outputs": [],
   "source": [
    "import pandas as pd\n",
    "from transformers import pipeline\n",
    "import spacy"
   ]
  },
  {
   "cell_type": "code",
   "execution_count": 27,
   "id": "bf390201-4a78-4486-ad5d-c60f24938f86",
   "metadata": {},
   "outputs": [],
   "source": [
    "class Focus:\n",
    "    def __init__(self, filepath, categories):\n",
    "        self.filepath = filepath\n",
    "        self.categories = categories\n",
    "        self.categories.append(\"Others\")\n",
    "        \n",
    "    # 1. Load Data\n",
    "    def read_data(self):\n",
    "        print(\"hulala\")\n",
    "        print(self.categories)\n",
    "    # 2. Transform data\n",
    "    def classified(self):\n",
    "        print(\" \".join(self.categories))\n",
    "    # 3. Return transformed data and transaction message."
   ]
  },
  {
   "cell_type": "code",
   "execution_count": 28,
   "id": "71971bb1-145c-4207-b7b1-ddbe951db412",
   "metadata": {},
   "outputs": [
    {
     "name": "stdout",
     "output_type": "stream",
     "text": [
      "hulala\n",
      "['ali', 'baba', 'Others']\n"
     ]
    }
   ],
   "source": [
    "trans = Focus(\"fiidlfdlsl\", [\"ali\", \"baba\"])\n",
    "trans.read_data()"
   ]
  },
  {
   "cell_type": "code",
   "execution_count": 29,
   "id": "02369d9b-f344-4f4a-8e7f-a7293eaeb639",
   "metadata": {},
   "outputs": [
    {
     "data": {
      "text/plain": [
       "'ali baba'"
      ]
     },
     "execution_count": 29,
     "metadata": {},
     "output_type": "execute_result"
    }
   ],
   "source": [
    "dd = [\"ali\", \"baba\"]\n",
    "\" \".join(dd)"
   ]
  },
  {
   "cell_type": "code",
   "execution_count": 30,
   "id": "ff8306b0-c38b-43b7-a001-66c95dafeefd",
   "metadata": {},
   "outputs": [
    {
     "name": "stdout",
     "output_type": "stream",
     "text": [
      "ali baba Others\n"
     ]
    }
   ],
   "source": [
    "trans.classified()"
   ]
  },
  {
   "cell_type": "code",
   "execution_count": 50,
   "id": "9ef7218a-40ab-4490-b67b-a697622b52ef",
   "metadata": {},
   "outputs": [],
   "source": [
    "def read_data(filepath, format=\"xlsx\"):\n",
    "    if format == \"xlsx\":\n",
    "        df = pd.read_excel(filepath)\n",
    "\n",
    "    elif format == \"csv\":\n",
    "        df = pd.read_csv(filepath)\n",
    "\n",
    "    elif format == \"txt\":\n",
    "        \n",
    "\n",
    "    # elif format == \"txt\":\n",
    "    data = df.iloc[:, 0]\n",
    "    return data.head()"
   ]
  },
  {
   "cell_type": "code",
   "execution_count": 51,
   "id": "23503b8f-ae42-4fd3-b10e-2fd1f851e513",
   "metadata": {},
   "outputs": [
    {
     "data": {
      "text/plain": [
       "0    the dict has handed over to another person, he...\n",
       "1    they have made payment on countless occasions ...\n",
       "2    he has created a class, added candidates and c...\n",
       "3    the \"no credit packs assigned' issue has been ...\n",
       "4    i have forwarded a detailed information of the...\n",
       "Name: Detailed Report, dtype: object"
      ]
     },
     "execution_count": 51,
     "metadata": {},
     "output_type": "execute_result"
    }
   ],
   "source": [
    "read_data(\"report_text.csv\", format=\"csv\")"
   ]
  },
  {
   "cell_type": "code",
   "execution_count": 59,
   "id": "d1ee721d-9d88-431a-9b13-e5c8a1e4a23c",
   "metadata": {},
   "outputs": [
    {
     "ename": "UnicodeDecodeError",
     "evalue": "'charmap' codec can't decode byte 0x8f in position 591: character maps to <undefined>",
     "output_type": "error",
     "traceback": [
      "\u001b[31m---------------------------------------------------------------------------\u001b[39m",
      "\u001b[31mUnicodeDecodeError\u001b[39m                        Traceback (most recent call last)",
      "\u001b[36mCell\u001b[39m\u001b[36m \u001b[39m\u001b[32mIn[59]\u001b[39m\u001b[32m, line 2\u001b[39m\n\u001b[32m      1\u001b[39m \u001b[38;5;28;01mwith\u001b[39;00m \u001b[38;5;28mopen\u001b[39m (\u001b[33m\"\u001b[39m\u001b[33mreport_text.xlsx\u001b[39m\u001b[33m\"\u001b[39m, \u001b[33m\"\u001b[39m\u001b[33mr\u001b[39m\u001b[33m\"\u001b[39m) \u001b[38;5;28;01mas\u001b[39;00m file:\n\u001b[32m----> \u001b[39m\u001b[32m2\u001b[39m     data = file.readlines()\n\u001b[32m      4\u001b[39m data\n",
      "\u001b[36mFile \u001b[39m\u001b[32m~\\anaconda3\\envs\\just_focus\\Lib\\encodings\\cp1252.py:23\u001b[39m, in \u001b[36mIncrementalDecoder.decode\u001b[39m\u001b[34m(self, input, final)\u001b[39m\n\u001b[32m     22\u001b[39m \u001b[38;5;28;01mdef\u001b[39;00m\u001b[38;5;250m \u001b[39m\u001b[34mdecode\u001b[39m(\u001b[38;5;28mself\u001b[39m, \u001b[38;5;28minput\u001b[39m, final=\u001b[38;5;28;01mFalse\u001b[39;00m):\n\u001b[32m---> \u001b[39m\u001b[32m23\u001b[39m     \u001b[38;5;28;01mreturn\u001b[39;00m codecs.charmap_decode(\u001b[38;5;28minput\u001b[39m,\u001b[38;5;28mself\u001b[39m.errors,decoding_table)[\u001b[32m0\u001b[39m]\n",
      "\u001b[31mUnicodeDecodeError\u001b[39m: 'charmap' codec can't decode byte 0x8f in position 591: character maps to <undefined>"
     ]
    }
   ],
   "source": [
    "with open (\"report_text.xlsx\", \"r\") as file:\n",
    "    data = file.readlines()\n",
    "\n",
    "data"
   ]
  },
  {
   "cell_type": "code",
   "execution_count": null,
   "id": "7bac1168-ce44-49dc-b535-39fe7d60193a",
   "metadata": {},
   "outputs": [],
   "source": []
  },
  {
   "cell_type": "code",
   "execution_count": null,
   "id": "43d3dc10-0eff-43c6-b01d-cf844387fd4a",
   "metadata": {},
   "outputs": [],
   "source": []
  },
  {
   "cell_type": "code",
   "execution_count": null,
   "id": "ff08668e-a0ef-44ec-b82d-ba0c41ff59a3",
   "metadata": {},
   "outputs": [],
   "source": []
  },
  {
   "cell_type": "code",
   "execution_count": null,
   "id": "407849f8-97a4-4944-bb96-c784243670cd",
   "metadata": {},
   "outputs": [],
   "source": []
  },
  {
   "cell_type": "code",
   "execution_count": null,
   "id": "1ab807b5-ebf0-4985-b23d-f9e1e0a9447d",
   "metadata": {},
   "outputs": [],
   "source": []
  },
  {
   "cell_type": "code",
   "execution_count": null,
   "id": "b3df6c09-aa92-454d-ba58-3299c975090f",
   "metadata": {},
   "outputs": [],
   "source": []
  },
  {
   "cell_type": "code",
   "execution_count": null,
   "id": "cc9ec206-acac-48e5-a5dc-487b403ced45",
   "metadata": {},
   "outputs": [],
   "source": []
  },
  {
   "cell_type": "code",
   "execution_count": null,
   "id": "bf8fef26-6e3e-49ee-9d48-ff913299b08e",
   "metadata": {},
   "outputs": [],
   "source": []
  }
 ],
 "metadata": {
  "kernelspec": {
   "display_name": "Python 3 (ipykernel)",
   "language": "python",
   "name": "python3"
  },
  "language_info": {
   "codemirror_mode": {
    "name": "ipython",
    "version": 3
   },
   "file_extension": ".py",
   "mimetype": "text/x-python",
   "name": "python",
   "nbconvert_exporter": "python",
   "pygments_lexer": "ipython3",
   "version": "3.12.11"
  }
 },
 "nbformat": 4,
 "nbformat_minor": 5
}
